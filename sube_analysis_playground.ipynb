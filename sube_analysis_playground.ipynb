{
 "cells": [
  {
   "cell_type": "code",
   "id": "initial_id",
   "metadata": {
    "collapsed": true,
    "ExecuteTime": {
     "end_time": "2024-06-28T16:54:36.081663Z",
     "start_time": "2024-06-28T16:54:35.862798Z"
    }
   },
   "source": "import pandas as pd",
   "outputs": [],
   "execution_count": 1
  },
  {
   "metadata": {},
   "cell_type": "markdown",
   "source": [
    "# Introducción\n",
    "Comenzaré trabajando con el Dataset de Datos.gob.ar que contiene la cantidad usuarios del sistema SUBE por día y tipo de transporte, diferenciando por medio de transporte como colectivo, lancha, subte y tren."
   ],
   "id": "eaab9a8e8c09502f"
  },
  {
   "metadata": {
    "ExecuteTime": {
     "end_time": "2024-06-28T16:54:36.090401Z",
     "start_time": "2024-06-28T16:54:36.082690Z"
    }
   },
   "cell_type": "code",
   "source": [
    "df = pd.read_csv(\"datasets/SUBE - Cantidad de tarjetas (usuarios) por día./total-usuarios-por-dia.csv\")\n",
    "\n",
    "df"
   ],
   "id": "775f5425ef16c0e7",
   "outputs": [
    {
     "data": {
      "text/plain": [
       "     indice_tiempo    total  colectivo  lancha   subte    tren\n",
       "0       2020-01-01   966457     907421      40   72180  112267\n",
       "1       2020-01-02  3879833    3564004      94  511136  719721\n",
       "2       2020-01-03  4213711    3886005     106  536129  779512\n",
       "3       2020-01-04  2899714    2728108     129  232491  461000\n",
       "4       2020-01-05  1785016    1687791      94  127770  203694\n",
       "...            ...      ...        ...     ...     ...     ...\n",
       "1628    2024-06-17  1919584    1819782     712  121361  219517\n",
       "1629    2024-06-18  5357011    5064390     975  453898  706859\n",
       "1630    2024-06-19  5416986    5146011    1227  419124  717365\n",
       "1631    2024-06-20  2242155    2108424    1140  162581  286177\n",
       "1632    2024-06-21  1973368    1874082     638  133680  198367\n",
       "\n",
       "[1633 rows x 6 columns]"
      ],
      "text/html": [
       "<div>\n",
       "<style scoped>\n",
       "    .dataframe tbody tr th:only-of-type {\n",
       "        vertical-align: middle;\n",
       "    }\n",
       "\n",
       "    .dataframe tbody tr th {\n",
       "        vertical-align: top;\n",
       "    }\n",
       "\n",
       "    .dataframe thead th {\n",
       "        text-align: right;\n",
       "    }\n",
       "</style>\n",
       "<table border=\"1\" class=\"dataframe\">\n",
       "  <thead>\n",
       "    <tr style=\"text-align: right;\">\n",
       "      <th></th>\n",
       "      <th>indice_tiempo</th>\n",
       "      <th>total</th>\n",
       "      <th>colectivo</th>\n",
       "      <th>lancha</th>\n",
       "      <th>subte</th>\n",
       "      <th>tren</th>\n",
       "    </tr>\n",
       "  </thead>\n",
       "  <tbody>\n",
       "    <tr>\n",
       "      <th>0</th>\n",
       "      <td>2020-01-01</td>\n",
       "      <td>966457</td>\n",
       "      <td>907421</td>\n",
       "      <td>40</td>\n",
       "      <td>72180</td>\n",
       "      <td>112267</td>\n",
       "    </tr>\n",
       "    <tr>\n",
       "      <th>1</th>\n",
       "      <td>2020-01-02</td>\n",
       "      <td>3879833</td>\n",
       "      <td>3564004</td>\n",
       "      <td>94</td>\n",
       "      <td>511136</td>\n",
       "      <td>719721</td>\n",
       "    </tr>\n",
       "    <tr>\n",
       "      <th>2</th>\n",
       "      <td>2020-01-03</td>\n",
       "      <td>4213711</td>\n",
       "      <td>3886005</td>\n",
       "      <td>106</td>\n",
       "      <td>536129</td>\n",
       "      <td>779512</td>\n",
       "    </tr>\n",
       "    <tr>\n",
       "      <th>3</th>\n",
       "      <td>2020-01-04</td>\n",
       "      <td>2899714</td>\n",
       "      <td>2728108</td>\n",
       "      <td>129</td>\n",
       "      <td>232491</td>\n",
       "      <td>461000</td>\n",
       "    </tr>\n",
       "    <tr>\n",
       "      <th>4</th>\n",
       "      <td>2020-01-05</td>\n",
       "      <td>1785016</td>\n",
       "      <td>1687791</td>\n",
       "      <td>94</td>\n",
       "      <td>127770</td>\n",
       "      <td>203694</td>\n",
       "    </tr>\n",
       "    <tr>\n",
       "      <th>...</th>\n",
       "      <td>...</td>\n",
       "      <td>...</td>\n",
       "      <td>...</td>\n",
       "      <td>...</td>\n",
       "      <td>...</td>\n",
       "      <td>...</td>\n",
       "    </tr>\n",
       "    <tr>\n",
       "      <th>1628</th>\n",
       "      <td>2024-06-17</td>\n",
       "      <td>1919584</td>\n",
       "      <td>1819782</td>\n",
       "      <td>712</td>\n",
       "      <td>121361</td>\n",
       "      <td>219517</td>\n",
       "    </tr>\n",
       "    <tr>\n",
       "      <th>1629</th>\n",
       "      <td>2024-06-18</td>\n",
       "      <td>5357011</td>\n",
       "      <td>5064390</td>\n",
       "      <td>975</td>\n",
       "      <td>453898</td>\n",
       "      <td>706859</td>\n",
       "    </tr>\n",
       "    <tr>\n",
       "      <th>1630</th>\n",
       "      <td>2024-06-19</td>\n",
       "      <td>5416986</td>\n",
       "      <td>5146011</td>\n",
       "      <td>1227</td>\n",
       "      <td>419124</td>\n",
       "      <td>717365</td>\n",
       "    </tr>\n",
       "    <tr>\n",
       "      <th>1631</th>\n",
       "      <td>2024-06-20</td>\n",
       "      <td>2242155</td>\n",
       "      <td>2108424</td>\n",
       "      <td>1140</td>\n",
       "      <td>162581</td>\n",
       "      <td>286177</td>\n",
       "    </tr>\n",
       "    <tr>\n",
       "      <th>1632</th>\n",
       "      <td>2024-06-21</td>\n",
       "      <td>1973368</td>\n",
       "      <td>1874082</td>\n",
       "      <td>638</td>\n",
       "      <td>133680</td>\n",
       "      <td>198367</td>\n",
       "    </tr>\n",
       "  </tbody>\n",
       "</table>\n",
       "<p>1633 rows × 6 columns</p>\n",
       "</div>"
      ]
     },
     "execution_count": 2,
     "metadata": {},
     "output_type": "execute_result"
    }
   ],
   "execution_count": 2
  },
  {
   "metadata": {},
   "cell_type": "markdown",
   "source": [
    "# Calculo de promedio de usuarios diarios del Sistema SUBE\n",
    "Obtendré el promedio de usuarios diarios del sistema por cada año"
   ],
   "id": "d372ebdc5ffe6b88"
  },
  {
   "metadata": {
    "ExecuteTime": {
     "end_time": "2024-06-28T16:54:36.093628Z",
     "start_time": "2024-06-28T16:54:36.091061Z"
    }
   },
   "cell_type": "code",
   "source": [
    "# indice_tiempo_por_defecto is representing a Date, but it's being red from .csv as object\n",
    "# Can be converted to datetime like this:\n",
    "df['indice_tiempo'] = pd.to_datetime(df['indice_tiempo'])\n",
    "# Dataframe can now be filtered by Date"
   ],
   "id": "94d349165ffe0e9e",
   "outputs": [],
   "execution_count": 3
  },
  {
   "metadata": {
    "ExecuteTime": {
     "end_time": "2024-06-28T16:54:36.135746Z",
     "start_time": "2024-06-28T16:54:36.094193Z"
    }
   },
   "cell_type": "code",
   "source": [
    "# I want to obtain total daily for each year\n",
    "# I will store them inside a dictionary\n",
    "\n",
    "#First i will obtain all years for 'indice_tiempo'column\n",
    "years = list({i for i in df['indice_tiempo'].dt.year})\n",
    "\n",
    "total_daily_users_per_year = { }\n",
    "amount_of_registries_per_year = { }\n",
    "average_users_per_day_per_year = { }\n",
    "\n",
    "# I create a key for each possible year in the dictionary for each dictionary\n",
    "# This way it's easier to save and read data for each year without having to use an if statement\n",
    "for year in years:\n",
    "    total_daily_users_per_year[year] = 0\n",
    "    average_users_per_day_per_year[year] = 0\n",
    "    amount_of_registries_per_year[year] = 0\n",
    "\n",
    "for index, row in df.iterrows():\n",
    "    total_daily_users_per_year[row['indice_tiempo'].year] += row['total']\n",
    "    amount_of_registries_per_year[row['indice_tiempo'].year] += 1\n",
    "\n",
    "for year, users_for_year in total_daily_users_per_year.items():\n",
    "    average_users_per_day_per_year[year] = users_for_year / amount_of_registries_per_year[year]\n",
    "\n",
    "print(\"Promedio diario anual de usuarios del sistema SUBE: \")\n",
    "for year in years:\n",
    "    print(f\"{year}: {round(average_users_per_day_per_year[year], 2)}\")"
   ],
   "id": "168a7ec93e72b91",
   "outputs": [
    {
     "name": "stdout",
     "output_type": "stream",
     "text": [
      "Promedio diario anual de usuarios del sistema SUBE: \n",
      "2020: 1819076.99\n",
      "2021: 2782789.47\n",
      "2022: 3876544.17\n",
      "2023: 4278644.76\n",
      "2024: 3884683.15\n"
     ]
    }
   ],
   "execution_count": 4
  },
  {
   "metadata": {},
   "cell_type": "markdown",
   "source": [
    "## Análisis y conclusiones\n",
    "- En 2020 y 2021 se muestran cantidades de usuarios mucho menores en promedio, uno podría suponer que por el aislamiento obligatorio decretado por la pandemia de COVID-19.\n",
    "- Si bien 2024 parece mostrar números similares hay que tener en cuenta que al momento de este análisis no resulta del todo representativo ya que el año todavía está en curso.\n",
    "\n",
    "## Siguientes pasos\n",
    "- A partir de los numeros menores observados durante la pandemia quizás sea interesante realizar un histograma para visualizar la evolución de viajes diarios.\n",
    "- Más allá de la suposición de que el número es menor por acontecimientos extraordinarios (pandemia) no estaría demás chequear el dataset en búsqueda de inconsistencias o outliers sobresalientes.\n",
    "- El promedio no es representativo para el año 2024, al momento no concluido, pero si los meses completados. Calcular los promedios mensuales puede dar nueva información \n",
    "- Se están utilizando los datos de usuarios totales por día. Puede resultar interesante ver que parte del total representa cada tipo de transporte en el total de usuarios (teniendo en cuenta que debe haber muchos usuarios diarios que utilizan más de un tipo de transporte, demostrado por la diferencia entre total y sumatoria de todos los transportes).\n",
    "- Me gustaría encontrar diferencias de cantidad de usuarios entre días tipo (laborales-no laborables, feriados). Tambien, por que no, entre los distintos días laborables."
   ],
   "id": "c20d800c13ba60b5"
  },
  {
   "metadata": {},
   "cell_type": "markdown",
   "source": "# Storage de información accesible para otros notebooks",
   "id": "1cf107cb844fd569"
  },
  {
   "metadata": {
    "ExecuteTime": {
     "end_time": "2024-06-28T16:54:36.141573Z",
     "start_time": "2024-06-28T16:54:36.138102Z"
    }
   },
   "cell_type": "code",
   "source": [
    "%store df\n",
    "%store years"
   ],
   "id": "cd45f86d84ee0768",
   "outputs": [
    {
     "name": "stdout",
     "output_type": "stream",
     "text": [
      "Stored 'df' (DataFrame)\n",
      "Stored 'years' (list)\n"
     ]
    }
   ],
   "execution_count": 5
  }
 ],
 "metadata": {
  "kernelspec": {
   "display_name": "Python 3",
   "language": "python",
   "name": "python3"
  },
  "language_info": {
   "codemirror_mode": {
    "name": "ipython",
    "version": 2
   },
   "file_extension": ".py",
   "mimetype": "text/x-python",
   "name": "python",
   "nbconvert_exporter": "python",
   "pygments_lexer": "ipython2",
   "version": "2.7.6"
  }
 },
 "nbformat": 4,
 "nbformat_minor": 5
}
